{
 "cells": [
  {
   "cell_type": "code",
   "execution_count": null,
   "metadata": {},
   "outputs": [],
   "source": [
    "%load_ext autoreload\n",
    "%autoreload 2\n",
    "%matplotlib inline\n",
    "\n",
    "import os\n",
    "from time import time\n",
    "\n",
    "import numpy as np\n",
    "import matplotlib.pyplot as plt\n",
    "from mpl_toolkits.mplot3d import Axes3D\n",
    "import healpy as hp\n",
    "import pygsp as pg\n",
    "import itertools\n",
    "\n",
    "from deepsphere import utils\n",
    "\n",
    "plt.rcParams['figure.figsize'] = (17, 5) # for matplotlib notebook\n",
    "\n",
    "nside = 16\n",
    "cm = plt.cm.RdBu_r\n",
    "cm.set_under('w')"
   ]
  },
  {
   "cell_type": "markdown",
   "metadata": {},
   "source": [
    "# DeepSphere 1.0"
   ]
  },
  {
   "cell_type": "code",
   "execution_count": null,
   "metadata": {},
   "outputs": [],
   "source": [
    "plt.rcParams['figure.figsize'] = (17, 5)\n",
    "\n",
    "nsides = [4, 8, 16]\n",
    "graphs = []\n",
    "spectral_content = dict()\n",
    "\n",
    "for nside, sigma in zip(nsides, sigmas):\n",
    "\n",
    "    lmax = 3 * nside - 1\n",
    "\n",
    "    n_harmonics = np.cumsum(np.arange(1, 2*lmax+2, 2))[-1]\n",
    "    graphs.append(utils.healpix_graph(nside, dtype=np.float64, std='kernel_width'))  # in NEST order\n",
    "    graph = graphs[-1]\n",
    "    print(\"Number of neighbours: \", np.mean(np.sum(W>0, axis=1)))\n",
    "    \n",
    "    graph.compute_fourier_basis(n_eigenvectors=n_harmonics)\n",
    "\n",
    "    cl = np.empty((n_harmonics, lmax+1))\n",
    "    for i in range(n_harmonics):\n",
    "        eigenvector = hp.reorder(graph.U[:, i], n2r=True)\n",
    "        # alm = hp.sphtfunc.map2alm(eigenvector)\n",
    "        cl[i] = hp.sphtfunc.anafast(eigenvector, lmax=lmax, iter=8)\n",
    "\n",
    "    spectral_content[nside] = np.empty((lmax+1, lmax+1))\n",
    "    start = 0\n",
    "    for ell in range(lmax+1):\n",
    "        end = start + (2 * ell + 1)\n",
    "        spectral_content[nside][ell] = np.sum(cl[start:end,:], axis=0)\n",
    "        start = end\n",
    "\n",
    "fig1, axes = plt.subplots(1, len(nsides))\n",
    "fig2, ax2 = plt.subplots()\n",
    "\n",
    "for ax, (nside, sc) in zip(axes, spectral_content.items()):\n",
    "    sc = sc / sc[0, 0]\n",
    "    im = ax.imshow(sc, cmap=plt.cm.gist_heat_r)\n",
    "    ax.set_title(rf'$N_{{side}}={nside}$')\n",
    "    energy_in = np.diag(sc)\n",
    "    ax2.plot(energy_in, 'o', label=rf'$N_{{side}}={nside}$')\n",
    "\n",
    "ax2.legend();\n",
    "\n",
    "fig1.savefig(\"deepsphere_original.png\")\n",
    "fig2.savefig(\"deepsphere_original_diagonal.png\")"
   ]
  },
  {
   "cell_type": "code",
   "execution_count": null,
   "metadata": {},
   "outputs": [],
   "source": [
    "graph = graphs[-1]\n",
    "plt.plot(graph.e[:50], 'b.')\n",
    "plt.plot(graph.e[:50], 'b-')\n",
    "for idx in range(7):\n",
    "    plt.text(idx**2, graph.e[idx**2] + 0.006, 'l = {}'.format(idx));\n",
    "plt.savefig('deepsphere_eigenvalues')"
   ]
  },
  {
   "cell_type": "markdown",
   "metadata": {},
   "source": [
    "# DeepSphere 2.0\n",
    "### (Thresholded at 0.01)"
   ]
  },
  {
   "cell_type": "code",
   "execution_count": null,
   "metadata": {},
   "outputs": [],
   "source": [
    "plt.rcParams['figure.figsize'] = (17, 5)\n",
    "\n",
    "nsides = [4, 8, 16]\n",
    "sigmas = [0.1003, 0.02561, 0.00647, 0.001628]\n",
    "deepsphere_thresholded_graphs = []\n",
    "spectral_content = dict()\n",
    "\n",
    "k= 0.01\n",
    " \n",
    "for nside, sigma in zip(nsides, sigmas):\n",
    "\n",
    "    lmax = 3 * nside - 1\n",
    "\n",
    "    n_harmonics = np.cumsum(np.arange(1, 2*lmax+2, 2))[-1]\n",
    "    full_graph = utils.full_healpix_graph(nside, dtype=np.float64, std=sigma)  # in NEST order\n",
    "    \n",
    "    # sparsifying the graph\n",
    "    W = full_graph.W.copy()\n",
    "    W[W < k] = 0\n",
    "    deepsphere_thresholded_graphs.append(pg.graphs.Graph(W))\n",
    "    graph = deepsphere_thresholded_graphs[-1]\n",
    "    print(\"Threshold: \", k)\n",
    "    print(\"Number of neighbours: \", np.mean(np.sum(W>0, axis=1)))\n",
    "    \n",
    "    graph.compute_fourier_basis(n_eigenvectors=n_harmonics)\n",
    "\n",
    "    cl = np.empty((n_harmonics, lmax+1))\n",
    "    for i in range(n_harmonics):\n",
    "        eigenvector = hp.reorder(graph.U[:, i], n2r=True)\n",
    "        # alm = hp.sphtfunc.map2alm(eigenvector)\n",
    "        cl[i] = hp.sphtfunc.anafast(eigenvector, lmax=lmax, iter=8)\n",
    "\n",
    "    spectral_content[nside] = np.empty((lmax+1, lmax+1))\n",
    "    start = 0\n",
    "    for ell in range(lmax+1):\n",
    "        end = start + (2 * ell + 1)\n",
    "        spectral_content[nside][ell] = np.sum(cl[start:end,:], axis=0)\n",
    "        start = end\n",
    "\n",
    "fig1, axes = plt.subplots(1, len(nsides))\n",
    "fig2, ax2 = plt.subplots()\n",
    "\n",
    "for ax, (nside, sc) in zip(axes, spectral_content.items()):\n",
    "    sc = sc / sc[0, 0]\n",
    "    im = ax.imshow(sc, cmap=plt.cm.gist_heat_r)\n",
    "    ax.set_title(rf'$N_{{side}}={nside}$')\n",
    "    energy_in = np.diag(sc)\n",
    "    ax2.plot(energy_in, 'o', label=rf'$N_{{side}}={nside}$')\n",
    "\n",
    "ax2.legend();\n",
    "\n",
    "fig1.savefig(\"deepsphere_thresholded.png\")\n",
    "fig2.savefig(\"deepsphere_thresholded_diagonal.png\")"
   ]
  },
  {
   "cell_type": "code",
   "execution_count": null,
   "metadata": {},
   "outputs": [],
   "source": [
    "plt.plot(deepsphere_thresholded_graphs[-1].e[:50], 'b.')\n",
    "plt.plot(deepsphere_thresholded_graphs[-1].e[:50], 'b-')\n",
    "for idx in range(7):\n",
    "    plt.text(idx**2, deepsphere_thresholded_graphs[-1].e[idx**2] + 0.03, 'l = {}'.format(idx));\n",
    "plt.savefig('deepsphere_thresholded_eigenvalues')"
   ]
  }
 ],
 "metadata": {
  "kernelspec": {
   "display_name": "Python [conda env:deepsphere]",
   "language": "python",
   "name": "conda-env-deepsphere-py"
  },
  "language_info": {
   "codemirror_mode": {
    "name": "ipython",
    "version": 3
   },
   "file_extension": ".py",
   "mimetype": "text/x-python",
   "name": "python",
   "nbconvert_exporter": "python",
   "pygments_lexer": "ipython3",
   "version": "3.6.8"
  }
 },
 "nbformat": 4,
 "nbformat_minor": 2
}

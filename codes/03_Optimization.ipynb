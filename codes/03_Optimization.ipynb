{
 "cells": [
  {
   "cell_type": "code",
   "execution_count": 1,
   "metadata": {},
   "outputs": [],
   "source": [
    "import scipy\n",
    "import numpy as np\n",
    "from scipy.optimize import minimize\n",
    "from scipy import spatial\n",
    "from scipy.linalg import circulant"
   ]
  },
  {
   "cell_type": "code",
   "execution_count": 2,
   "metadata": {},
   "outputs": [],
   "source": [
    "def laplacian(W):\n",
    "    return np.diag(np.sum(W, axis=0)) - W\n",
    "\n",
    "def normalized_laplacian(W):\n",
    "    N = np.alen(W)+1\n",
    "    D_diag = np.sum(W, axis=0)\n",
    "    D_minus12 = np.diag([d**(-0.5) for d in D_diag])\n",
    "    return np.eye(N-1)-D_minus12@W@D_minus12 \n",
    "\n",
    "def O_LU(W, U):\n",
    "    \"\"\"W is a matrix NxN\"\"\"\n",
    "    L = laplacian(W)\n",
    "    return L@U\n",
    "\n",
    "def O_Lambda(lambda_, U):\n",
    "    return np.diag(lambda_)@U\n",
    "\n",
    "def loss_function(W_and_lambda, U, N):\n",
    "    W = W_and_lambda[:N**2].reshape((N,N))\n",
    "    lambda_ = W_and_lambda[N**2:]\n",
    "    return np.linalg.norm(O_LU(W, U)-O_Lambda(lambda_, U))"
   ]
  },
  {
   "cell_type": "code",
   "execution_count": 3,
   "metadata": {},
   "outputs": [],
   "source": [
    "N = 4\n",
    "xx = np.linspace(0,2*np.pi, N, endpoint=False)\n",
    "assert len(xx) == N, len(xx)\n",
    "yy = np.sin(xx)/np.sqrt(np.pi)\n",
    "\n",
    "pointset = np.zeros((N, 2))\n",
    "pointset[:,0] = np.cos(xx)\n",
    "pointset[:,1] = np.sin(xx)\n",
    "\n",
    "vect = spatial.distance.cdist(pointset[0].reshape((1,2)), pointset)\n",
    "weights = np.exp(-vect / np.mean(vect))\n",
    "W0 = circulant(weights)\n",
    "\n",
    "def harmonics(N):\n",
    "    sigma = 0.002\n",
    "    thetas = np.linspace(0,2*np.pi,N, endpoint=False)\n",
    "    thetas += sigma*np.random.randn(N)\n",
    "    U = np.zeros((N,N))\n",
    "    k = 0\n",
    "    for i in range(N):\n",
    "        if i == 0:\n",
    "            U[:,i]=0\n",
    "        if i % 2 == 1:\n",
    "            k += 1\n",
    "            U[:,i]= np.sin(k*thetas)/np.sqrt(np.pi)\n",
    "        if i % 2 == 0:\n",
    "            U[:,i]= np.cos(k*thetas)/np.sqrt(np.pi)\n",
    "    return U\n",
    "\n",
    "U = harmonics(N)\n",
    "\n",
    "w = np.ravel(W0)\n",
    "lambdas = np.ones(N)\n",
    "X0 = np.concatenate([w, lambdas])\n",
    "\n",
    "lb = np.zeros(N**2+N)\n",
    "ub = np.ones(N**2+N)*np.inf\n",
    "bounds = scipy.optimize.Bounds(lb=lb, ub=ub)\n",
    "\n",
    "A = np.zeros(N**2+N)\n",
    "A[N**2:] = 1\n",
    "lb = 1\n",
    "ub = 1\n",
    "\n",
    "Constraints = scipy.optimize.LinearConstraint(A, lb=lb, ub=ub)"
   ]
  },
  {
   "cell_type": "code",
   "execution_count": 4,
   "metadata": {},
   "outputs": [
    {
     "ename": "TypeError",
     "evalue": "'LinearConstraint' object is not iterable",
     "output_type": "error",
     "traceback": [
      "\u001b[0;31m---------------------------------------------------------------------------\u001b[0m",
      "\u001b[0;31mTypeError\u001b[0m                                 Traceback (most recent call last)",
      "\u001b[0;32m<ipython-input-4-1f3fe939f4ad>\u001b[0m in \u001b[0;36m<module>\u001b[0;34m\u001b[0m\n\u001b[0;32m----> 1\u001b[0;31m \u001b[0mminimize\u001b[0m\u001b[0;34m(\u001b[0m\u001b[0mloss_function\u001b[0m\u001b[0;34m,\u001b[0m \u001b[0mX0\u001b[0m\u001b[0;34m,\u001b[0m \u001b[0margs\u001b[0m\u001b[0;34m=\u001b[0m\u001b[0;34m(\u001b[0m\u001b[0mU\u001b[0m\u001b[0;34m,\u001b[0m \u001b[0mN\u001b[0m\u001b[0;34m)\u001b[0m\u001b[0;34m,\u001b[0m \u001b[0mbounds\u001b[0m\u001b[0;34m=\u001b[0m\u001b[0mbounds\u001b[0m\u001b[0;34m,\u001b[0m \u001b[0mconstraints\u001b[0m\u001b[0;34m=\u001b[0m\u001b[0mConstraints\u001b[0m\u001b[0;34m)\u001b[0m\u001b[0;34m\u001b[0m\u001b[0;34m\u001b[0m\u001b[0m\n\u001b[0m",
      "\u001b[0;32m~/anaconda3/lib/python3.7/site-packages/scipy/optimize/_minimize.py\u001b[0m in \u001b[0;36mminimize\u001b[0;34m(fun, x0, args, method, jac, hess, hessp, bounds, constraints, tol, callback, options)\u001b[0m\n\u001b[1;32m    609\u001b[0m     \u001b[0;32melif\u001b[0m \u001b[0mmeth\u001b[0m \u001b[0;34m==\u001b[0m \u001b[0;34m'slsqp'\u001b[0m\u001b[0;34m:\u001b[0m\u001b[0;34m\u001b[0m\u001b[0;34m\u001b[0m\u001b[0m\n\u001b[1;32m    610\u001b[0m         return _minimize_slsqp(fun, x0, args, jac, bounds,\n\u001b[0;32m--> 611\u001b[0;31m                                constraints, callback=callback, **options)\n\u001b[0m\u001b[1;32m    612\u001b[0m     \u001b[0;32melif\u001b[0m \u001b[0mmeth\u001b[0m \u001b[0;34m==\u001b[0m \u001b[0;34m'trust-constr'\u001b[0m\u001b[0;34m:\u001b[0m\u001b[0;34m\u001b[0m\u001b[0;34m\u001b[0m\u001b[0m\n\u001b[1;32m    613\u001b[0m         return _minimize_trustregion_constr(fun, x0, args, jac, hess, hessp,\n",
      "\u001b[0;32m~/anaconda3/lib/python3.7/site-packages/scipy/optimize/slsqp.py\u001b[0m in \u001b[0;36m_minimize_slsqp\u001b[0;34m(func, x0, args, jac, bounds, constraints, maxiter, ftol, iprint, disp, eps, callback, **unknown_options)\u001b[0m\n\u001b[1;32m    249\u001b[0m \u001b[0;34m\u001b[0m\u001b[0m\n\u001b[1;32m    250\u001b[0m     \u001b[0mcons\u001b[0m \u001b[0;34m=\u001b[0m \u001b[0;34m{\u001b[0m\u001b[0;34m'eq'\u001b[0m\u001b[0;34m:\u001b[0m \u001b[0;34m(\u001b[0m\u001b[0;34m)\u001b[0m\u001b[0;34m,\u001b[0m \u001b[0;34m'ineq'\u001b[0m\u001b[0;34m:\u001b[0m \u001b[0;34m(\u001b[0m\u001b[0;34m)\u001b[0m\u001b[0;34m}\u001b[0m\u001b[0;34m\u001b[0m\u001b[0;34m\u001b[0m\u001b[0m\n\u001b[0;32m--> 251\u001b[0;31m     \u001b[0;32mfor\u001b[0m \u001b[0mic\u001b[0m\u001b[0;34m,\u001b[0m \u001b[0mcon\u001b[0m \u001b[0;32min\u001b[0m \u001b[0menumerate\u001b[0m\u001b[0;34m(\u001b[0m\u001b[0mconstraints\u001b[0m\u001b[0;34m)\u001b[0m\u001b[0;34m:\u001b[0m\u001b[0;34m\u001b[0m\u001b[0;34m\u001b[0m\u001b[0m\n\u001b[0m\u001b[1;32m    252\u001b[0m         \u001b[0;31m# check type\u001b[0m\u001b[0;34m\u001b[0m\u001b[0;34m\u001b[0m\u001b[0;34m\u001b[0m\u001b[0m\n\u001b[1;32m    253\u001b[0m         \u001b[0;32mtry\u001b[0m\u001b[0;34m:\u001b[0m\u001b[0;34m\u001b[0m\u001b[0;34m\u001b[0m\u001b[0m\n",
      "\u001b[0;31mTypeError\u001b[0m: 'LinearConstraint' object is not iterable"
     ]
    }
   ],
   "source": [
    "minimize(loss_function, X0, args=(U, N), bounds=bounds, constraints=Constraints)"
   ]
  },
  {
   "cell_type": "code",
   "execution_count": null,
   "metadata": {},
   "outputs": [],
   "source": []
  }
 ],
 "metadata": {
  "kernelspec": {
   "display_name": "Python 3",
   "language": "python",
   "name": "python3"
  },
  "language_info": {
   "codemirror_mode": {
    "name": "ipython",
    "version": 3
   },
   "file_extension": ".py",
   "mimetype": "text/x-python",
   "name": "python",
   "nbconvert_exporter": "python",
   "pygments_lexer": "ipython3",
   "version": "3.7.1"
  }
 },
 "nbformat": 4,
 "nbformat_minor": 2
}

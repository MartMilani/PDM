{
 "cells": [
  {
   "cell_type": "markdown",
   "metadata": {},
   "source": [
    "# [DeepSphere]: a spherical convolutional neural network\n",
    "[DeepSphere]: https://github.com/SwissDataScienceCenter/DeepSphere\n",
    "\n",
    "[Nathanaël Perraudin](https://perraudin.info), [Michaël Defferrard](http://deff.ch), Tomasz Kacprzak, Raphael Sgier\n",
    "\n",
    "# Demo: spherical harmonics vs graph Fourier modes"
   ]
  },
  {
   "cell_type": "code",
   "execution_count": null,
   "metadata": {},
   "outputs": [],
   "source": [
    "%load_ext autoreload\n",
    "%autoreload 2\n",
    "%matplotlib inline"
   ]
  },
  {
   "cell_type": "code",
   "execution_count": 2,
   "metadata": {},
   "outputs": [],
   "source": [
    "import os\n",
    "from time import time\n",
    "\n",
    "import numpy as np\n",
    "import matplotlib.pyplot as plt\n",
    "from mpl_toolkits.mplot3d import Axes3D\n",
    "import healpy as hp\n",
    "import pygsp as pg\n",
    "import itertools\n",
    "\n",
    "from deepsphere import utils"
   ]
  },
  {
   "cell_type": "code",
   "execution_count": 3,
   "metadata": {},
   "outputs": [],
   "source": [
    "plt.rcParams['figure.figsize'] = (17, 5)  # (9, 4) for matplotlib notebook\n",
    "\n",
    "nside = 16\n",
    "cm = plt.cm.RdBu_r\n",
    "cm.set_under('w')"
   ]
  },
  {
   "cell_type": "code",
   "execution_count": 4,
   "metadata": {},
   "outputs": [
    {
     "data": {
      "image/png": "[encoded data removed]",
      "text/plain": [
       "<Figure size 1224x360 with 1 Axes>"
      ]
     },
     "metadata": {},
     "output_type": "display_data"
    }
   ],
   "source": [
    "utils.full_healpix_weightmatrix(nside=32, dtype=np.float32, std=0.002, plot=True, max_plot=0.01);"
   ]
  },
  {
   "cell_type": "markdown",
   "metadata": {},
   "source": [
    "It seems that the first neighbors of a pixel are at a squared distance of less than 0.001; with a standard deviation of $\\sigma=0.001$ and by thresholding the weight matrix at $e^{-4\\sigma/\\sigma}$ I could have a good approximation of the full graph "
   ]
  },
  {
   "cell_type": "code",
   "execution_count": 5,
   "metadata": {},
   "outputs": [
    {
     "name": "stderr",
     "output_type": "stream",
     "text": [
      "2019-04-10 11:59:04,897:[WARNING](pygsp.graphs.graph.compute_fourier_basis): Computing the partial eigendecomposition of a large matrix (12288 x 12288) is expensive. Consider decreasing n_eigenvectors or, if using the Fourier basis to filter, using a polynomial filter instead.\n"
     ]
    },
    {
     "data": {
      "image/png": "[encoded data removed]",
      "text/plain": [
       "<Figure size 1440x144 with 1 Axes>"
      ]
     },
     "metadata": {},
     "output_type": "display_data"
    }
   ],
   "source": [
    "spectral_content = dict()\n",
    "\n",
    "\n",
    "nside = 32\n",
    "graph = utils.healpix_graph(nside, dtype=np.float64, std=0.002)  # in NEST order\n",
    "\n",
    "lmax = 3 * nside - 1\n",
    "n_harmonics = np.cumsum(np.arange(1, 2*lmax+2, 2))[-1]\n",
    "\n",
    "graph.compute_fourier_basis(n_eigenvectors=n_harmonics)\n",
    "\n",
    "cl = np.empty((n_harmonics, lmax+1))\n",
    "for i in range(n_harmonics):\n",
    "    eigenvector = hp.reorder(graph.U[:, i], n2r=True)\n",
    "    cl[i] = hp.sphtfunc.anafast(eigenvector, lmax=lmax)\n",
    "\n",
    "spectral_content[nside] = np.empty((lmax+1, lmax+1))\n",
    "start = 0\n",
    "for ell in range(lmax+1):\n",
    "    end = start + (2 * ell + 1)\n",
    "    spectral_content[nside][ell] = np.sum(cl[start:end,:], axis=0)\n",
    "    start = end\n",
    "\n",
    "fig2, ax2 = plt.subplots(figsize=(20,2))\n",
    "\n",
    "sc = spectral_content[nside]\n",
    "sc = sc / sc[0, 0]\n",
    "\n",
    "energy_in = np.diag(sc)\n",
    "ax2.plot(energy_in, 'o', label=rf'$N_{{side}}={nside}$')\n",
    "\n",
    "ax2.legend();\n",
    "plt.show()"
   ]
  },
  {
   "cell_type": "markdown",
   "metadata": {},
   "source": [
    "### comparison with the full graph:"
   ]
  },
  {
   "cell_type": "code",
   "execution_count": 5,
   "metadata": {},
   "outputs": [
    {
     "name": "stderr",
     "output_type": "stream",
     "text": [
      "2019-04-11 11:13:38,350:[WARNING](pygsp.graphs.graph.compute_fourier_basis): Computing the partial eigendecomposition of a large matrix (12288 x 12288) is expensive. Consider decreasing n_eigenvectors or, if using the Fourier basis to filter, using a polynomial filter instead.\n"
     ]
    },
    {
     "data": {
      "image/png": "[encoded data removed]",
      "text/plain": [
       "<Figure size 1440x144 with 1 Axes>"
      ]
     },
     "metadata": {},
     "output_type": "display_data"
    }
   ],
   "source": [
    "spectral_content = dict()\n",
    "\n",
    "\n",
    "nside = 32\n",
    "graph = utils.full_healpix_graph(nside, dtype=np.float64, std=0.002)  # in NEST order\n",
    "\n",
    "lmax = 3 * nside - 1\n",
    "n_harmonics = np.cumsum(np.arange(1, 2*lmax+2, 2))[-1]\n",
    "\n",
    "#print(\"Threshold: \", k)\n",
    "#print(\"Number of neighbours: \", np.mean(np.sum(W>0, axis=1)))\n",
    "graph.compute_fourier_basis(n_eigenvectors=n_harmonics)\n",
    "\n",
    "cl = np.empty((n_harmonics, lmax+1))\n",
    "for i in range(n_harmonics):\n",
    "    eigenvector = hp.reorder(graph.U[:, i], n2r=True)\n",
    "    cl[i] = hp.sphtfunc.anafast(eigenvector, lmax=lmax)\n",
    "\n",
    "spectral_content[nside] = np.empty((lmax+1, lmax+1))\n",
    "start = 0\n",
    "for ell in range(lmax+1):\n",
    "    end = start + (2 * ell + 1)\n",
    "    spectral_content[nside][ell] = np.sum(cl[start:end,:], axis=0)\n",
    "    start = end\n",
    "\n",
    "fig2, ax2 = plt.subplots(figsize=(20,2))\n",
    "\n",
    "sc = spectral_content[nside]\n",
    "sc = sc / sc[0, 0]\n",
    "\n",
    "energy_in = np.diag(sc)\n",
    "ax2.plot(energy_in, 'o', label=rf'$N_{{side}}={nside}$')\n",
    "\n",
    "ax2.legend();\n",
    "plt.show()"
   ]
  },
  {
   "cell_type": "code",
   "execution_count": 4,
   "metadata": {},
   "outputs": [
    {
     "name": "stderr",
     "output_type": "stream",
     "text": [
      "/home/gusset/miniconda3/envs/PDMsphere/lib/python3.6/site-packages/scipy/sparse/compressed.py:274: SparseEfficiencyWarning: Comparing a sparse matrix with a scalar greater than zero using < is inefficient, try using >= instead.\n",
      "  warn(bad_scalar_msg, SparseEfficiencyWarning)\n",
      "/home/gusset/miniconda3/envs/PDMsphere/lib/python3.6/site-packages/scipy/sparse/compressed.py:742: SparseEfficiencyWarning: Changing the sparsity structure of a csr_matrix is expensive. lil_matrix is more efficient.\n",
      "  SparseEfficiencyWarning)\n",
      "2019-04-12 10:17:21,415:[WARNING](pygsp.graphs.graph.compute_fourier_basis): Computing the partial eigendecomposition of a large matrix (12288 x 12288) is expensive. Consider decreasing n_eigenvectors or, if using the Fourier basis to filter, using a polynomial filter instead.\n"
     ]
    },
    {
     "name": "stdout",
     "output_type": "stream",
     "text": [
      "Threshold:  0.006737946999085467\n",
      "Number of neighbours:  30.574869791666668\n"
     ]
    },
    {
     "data": {
      "image/png": "[encoded data removed]",
      "text/plain": [
       "<Figure size 1440x144 with 1 Axes>"
      ]
     },
     "metadata": {},
     "output_type": "display_data"
    }
   ],
   "source": [
    "spectral_content = dict()\n",
    "\n",
    "\n",
    "nside = 32\n",
    "full_graph = utils.full_healpix_graph(nside, dtype=np.float64, std=0.002)  # in NEST order\n",
    "\n",
    "lmax = 3 * nside - 1\n",
    "n_harmonics = np.cumsum(np.arange(1, 2*lmax+2, 2))[-1]\n",
    "\n",
    "k = np.exp(-5)\n",
    "W = full_graph.W.copy()\n",
    "W[W < k] = 0\n",
    "graph = pg.graphs.Graph(W)\n",
    "\n",
    "print(\"Threshold: \", k)\n",
    "print(\"Number of neighbours: \", np.mean(np.sum(W>0, axis=1)))\n",
    "graph.compute_fourier_basis(n_eigenvectors=n_harmonics)\n",
    "\n",
    "cl = np.empty((n_harmonics, lmax+1))\n",
    "for i in range(n_harmonics):\n",
    "    eigenvector = hp.reorder(graph.U[:, i], n2r=True)\n",
    "    cl[i] = hp.sphtfunc.anafast(eigenvector, lmax=lmax)\n",
    "\n",
    "spectral_content[nside] = np.empty((lmax+1, lmax+1))\n",
    "start = 0\n",
    "for ell in range(lmax+1):\n",
    "    end = start + (2 * ell + 1)\n",
    "    spectral_content[nside][ell] = np.sum(cl[start:end,:], axis=0)\n",
    "    start = end\n",
    "\n",
    "fig2, ax2 = plt.subplots(figsize=(20,2))\n",
    "\n",
    "sc = spectral_content[nside]\n",
    "sc = sc / sc[0, 0]\n",
    "\n",
    "energy_in = np.diag(sc)\n",
    "ax2.plot(energy_in, 'o', label=rf'$N_{{side}}={nside}$')\n",
    "\n",
    "ax2.legend();\n",
    "plt.show()"
   ]
  }
 ],
 "metadata": {
  "kernelspec": {
   "display_name": "Python 3",
   "language": "python",
   "name": "python3"
  },
  "language_info": {
   "codemirror_mode": {
    "name": "ipython",
    "version": 3
   },
   "file_extension": ".py",
   "mimetype": "text/x-python",
   "name": "python",
   "nbconvert_exporter": "python",
   "pygments_lexer": "ipython3",
   "version": "3.6.7"
  }
 },
 "nbformat": 4,
 "nbformat_minor": 2
}

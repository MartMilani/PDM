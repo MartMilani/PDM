{
 "cells": [
  {
   "cell_type": "code",
   "execution_count": 23,
   "metadata": {
    "scrolled": false
   },
   "outputs": [
    {
     "data": {
      "image/png": "[encoded data removed]",
      "text/plain": [
       "<Figure size 432x288 with 1 Axes>"
      ]
     },
     "metadata": {
      "needs_background": "light"
     },
     "output_type": "display_data"
    },
    {
     "data": {
      "image/png": "[encoded data removed]",
      "text/plain": [
       "<Figure size 432x288 with 1 Axes>"
      ]
     },
     "metadata": {
      "needs_background": "light"
     },
     "output_type": "display_data"
    }
   ],
   "source": [
    "import scipy.sparse\n",
    "import matplotlib\n",
    "from mpl_toolkits.mplot3d import Axes3D\n",
    "from pygsp.graphs import Graph\n",
    "import mpl_toolkits.mplot3d as a3\n",
    "import matplotlib.colors as colors\n",
    "import pylab as pl\n",
    "import scipy as sp\n",
    "from scipy.spatial import ConvexHull\n",
    "import matplotlib.pyplot as plt\n",
    "import numpy as np\n",
    "%matplotlib inline\n",
    "\n",
    "\n",
    "pos = 470\n",
    "\n",
    "L = scipy.sparse.load_npz('matrices/stiffness_matrix.npz')\n",
    "B = scipy.sparse.load_npz('matrices/mass_matrix.npz')\n",
    "reordering_mask = np.load(\"reordering_mask.npy\")\n",
    "\n",
    "\n",
    "npix = 1025\n",
    "\n",
    "L = L[reordering_mask]\n",
    "B = B[reordering_mask]\n",
    "L = L[:, reordering_mask]\n",
    "B = B[:, reordering_mask]\n",
    "B_inv = scipy.sparse.linalg.inv(B)\n",
    "signal = np.zeros(npix)\n",
    "signal[0] = 1\n",
    "\n",
    "B_lumped_inverse = np.diag(1./np.sum(B.toarray(), axis=1))\n",
    "\n",
    "\n",
    "plt.spy(L)\n",
    "plt.show()\n",
    "plt.spy(B)\n",
    "plt.show()"
   ]
  },
  {
   "cell_type": "markdown",
   "metadata": {},
   "source": [
    "# FEM diffusion\n"
   ]
  },
  {
   "cell_type": "code",
   "execution_count": 8,
   "metadata": {},
   "outputs": [],
   "source": [
    "class Equiangulartovtk(Graph):\n",
    "     \n",
    "    def make_coords(self):\n",
    "        alpha = np.arange(2 * 16) * np.pi / 16\n",
    "        l = 1\n",
    "        alpha1 = np.linspace(0, l, 14, endpoint=False)\n",
    "        alpha2 = np.linspace(l, np.pi-l, 5, endpoint=False)\n",
    "        alpha3 = np.linspace(np.pi-l, np.pi, 14, endpoint=False)        \n",
    "        beta = np.concatenate([alpha1, alpha2, alpha3])\n",
    "      \n",
    "        theta, phi = np.meshgrid(*(beta, alpha),indexing='ij')\n",
    "        ct = np.cos(theta).flatten()\n",
    "        st = np.sin(theta).flatten()\n",
    "        cp = np.cos(phi).flatten()\n",
    "        sp = np.sin(phi).flatten()\n",
    "        x = st * cp\n",
    "        y = st * sp\n",
    "        z = ct\n",
    "        coords = np.vstack([x, y, z]).T\n",
    "        coords = np.asarray(coords, dtype=np.float32)\n",
    "        return coords[2*16-1:]\n",
    "\n",
    "    def __init__(self):\n",
    "        from pyevtk.hl import unstructuredGridToVTK\n",
    "        from pyevtk.vtk import VtkTriangle, VtkQuad\n",
    "        \n",
    "        self.coords = self.make_coords()\n",
    "        self.x = self.coords[:,0]\n",
    "        self.y = self.coords[:,1]\n",
    "        self.z = self.coords[:,2]\n",
    "        \n",
    "        \n",
    "        \n",
    "                \n",
    "       \n",
    "        tri = ConvexHull(self.coords)\n",
    "        \n",
    "        \n",
    "        self.simplices = tri.simplices\n",
    "        self.conn = self.simplices.flatten()\n",
    "        self.offset = np.arange(3,len(self.conn)+1, 3)\n",
    "        self.ctype = np.ones(len(self.offset))*VtkTriangle.tid\n",
    "        distances_squared = scipy.spatial.distance.cdist(self.coords, self.coords)**2\n",
    "        W = np.exp(-distances_squared/0.1)\n",
    "        W = W-np.diag(np.diag(W))\n",
    "        super(Equiangulartovtk, self).__init__(W=W, coords=self.coords)\n",
    "\n",
    "    def save(self, title='unstructured', pointData=None):\n",
    "        from pyevtk.hl import unstructuredGridToVTK\n",
    "        if pointData is not None:\n",
    "            unstructuredGridToVTK(\n",
    "                title,\n",
    "                self.x,\n",
    "                self.y,\n",
    "                self.z,\n",
    "                connectivity=self.conn,\n",
    "                offsets=self.offset,\n",
    "                cell_types=self.ctype,\n",
    "                pointData={'Temp': pointData})\n",
    "        else:\n",
    "            unstructuredGridToVTK(\n",
    "                title,\n",
    "                self.x,\n",
    "                self.y,\n",
    "                self.z,\n",
    "                connectivity=self.conn,\n",
    "                offsets=self.offset,\n",
    "                cell_types=self.ctype,\n",
    "                pointData={'Temp': self.x})\n"
   ]
  },
  {
   "cell_type": "code",
   "execution_count": 10,
   "metadata": {},
   "outputs": [],
   "source": [
    "M = scipy.linalg.expm(-0.08*B_inv@L)\n",
    "M_lumped = scipy.linalg.expm(-0.08*B_lumped_inverse@L)"
   ]
  },
  {
   "cell_type": "code",
   "execution_count": 26,
   "metadata": {},
   "outputs": [],
   "source": [
    "def diffuse(x):\n",
    "    return M@x\n",
    "\n",
    "def diffuse_lumped(x):\n",
    "    return M_lumped@x\n",
    "\n",
    "signal = np.zeros(npix)\n",
    "signal[pos] = 1\n",
    "\n",
    "graph = Equiangulartovtk()\n",
    "graph.save('img/FEM_diffusion000000{}'.format(0), pointData = signal)\n",
    "for j in range(8):\n",
    "    # diffusing 3 times\n",
    "    for i in range(1):\n",
    "        signal = np.asarray(abs(diffuse(signal)))\n",
    "    graph.save('img/FEM_diffusion000000{}'.format(j+1), pointData = signal)\n"
   ]
  },
  {
   "cell_type": "markdown",
   "metadata": {},
   "source": [
    "# GRAPH diffusion"
   ]
  },
  {
   "cell_type": "code",
   "execution_count": 16,
   "metadata": {
    "scrolled": false
   },
   "outputs": [],
   "source": [
    "graph = Equiangulartovtk()\n",
    "HKGL = graph.L\n",
    "\n",
    "expL = scipy.linalg.expm(-0.05*HKGL)\n",
    "def diffuse_HKGL(x):\n",
    "    return expL@x"
   ]
  },
  {
   "cell_type": "code",
   "execution_count": 27,
   "metadata": {},
   "outputs": [],
   "source": [
    "from pygsp.graphs import Graph\n",
    "# re initializing the signal to diffuse\n",
    "signal = np.zeros(npix)\n",
    "signal[pos] = 1\n",
    "graph.save('img/GRAPH_diffusion000000{}'.format(0), pointData = signal)\n",
    "for j in range(8):\n",
    "    # diffusing 3 times\n",
    "    for i in range(3):\n",
    "        signal = diffuse_HKGL(signal)\n",
    "    graph.save('img/GRAPH_diffusion000000{}'.format(j+1), pointData = signal)"
   ]
  },
  {
   "cell_type": "code",
   "execution_count": null,
   "metadata": {},
   "outputs": [],
   "source": []
  }
 ],
 "metadata": {
  "kernelspec": {
   "display_name": "Python (pdm)",
   "language": "python",
   "name": "pdm"
  },
  "language_info": {
   "codemirror_mode": {
    "name": "ipython",
    "version": 3
   },
   "file_extension": ".py",
   "mimetype": "text/x-python",
   "name": "python",
   "nbconvert_exporter": "python",
   "pygments_lexer": "ipython3",
   "version": "3.7.2"
  }
 },
 "nbformat": 4,
 "nbformat_minor": 2
}

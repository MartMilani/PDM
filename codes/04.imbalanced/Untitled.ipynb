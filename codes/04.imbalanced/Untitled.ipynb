{
 "cells": [
  {
   "cell_type": "code",
   "execution_count": 2,
   "metadata": {},
   "outputs": [],
   "source": [
    "import numpy as np\n",
    "\n",
    "bw = 4"
   ]
  },
  {
   "cell_type": "code",
   "execution_count": 23,
   "metadata": {},
   "outputs": [],
   "source": [
    "class Equiangulartovtk:\n",
    "     \n",
    "    def make_coords(self, bw):\n",
    "        alpha = np.arange(2 * bw) * np.pi / bw\n",
    "        beta = np.arange(2 * bw) * np.pi / (2. * bw)\n",
    "      \n",
    "        theta, phi = np.meshgrid(*(beta, alpha),indexing='ij')\n",
    "        ct = np.cos(theta).flatten()\n",
    "        st = np.sin(theta).flatten()\n",
    "        cp = np.cos(phi).flatten()\n",
    "        sp = np.sin(phi).flatten()\n",
    "        x = st * cp\n",
    "        y = st * sp\n",
    "        z = ct\n",
    "        coords = np.vstack([x, y, z]).T\n",
    "        coords = np.asarray(coords, dtype=np.float32)\n",
    "        return coords[2*bw-1:]\n",
    "\n",
    "    def __init__(self, bw=4):\n",
    "        from pyevtk.hl import unstructuredGridToVTK\n",
    "        from pyevtk.vtk import VtkTriangle, VtkQuad\n",
    "        \n",
    "        self.coords = self.make_coords(bw)\n",
    "        self.x = self.coords[:,0]\n",
    "        self.y = self.coords[:,1]\n",
    "        self.z = self.coords[:,2]\n",
    "        width = 2*bw\n",
    "        \n",
    "        \n",
    "        tri = []\n",
    "        # north pole\n",
    "        for i in range(width):\n",
    "            tri.append([0, i+1, (i+1)%width+1])\n",
    "        \n",
    "        # inner layers\n",
    "        for j in range(width-2):\n",
    "            s = j*width  # s stands for \"shift\"\n",
    "            for i in range(width):\n",
    "                tri.append([s + (i+1), s + (i+1)%width+1, s + (i+1)%width+1 + width])\n",
    "            for i in range(width):\n",
    "                tri.append([s + (i+1), s + (i+1) + width, s + (i+1)%width + width + 1])\n",
    "                \n",
    "       \n",
    "        npix = width*(width-1)+1\n",
    "        last_row = np.arange(npix-width, npix)\n",
    "        start = last_row[0]\n",
    "        for i in last_row[:-2]:\n",
    "            tri.append([start, i+1, i+2])\n",
    "        \n",
    "        \n",
    "        self.simplices = np.asarray(tri)\n",
    "        self.conn = self.simplices.flatten()\n",
    "        self.offset = np.arange(3,len(self.conn)+1, 3)\n",
    "        self.ctype = np.ones(len(self.offset))*VtkTriangle.tid\n",
    "\n",
    "    def save(self, title='unstructured', pointData=None):\n",
    "        from pyevtk.hl import unstructuredGridToVTK\n",
    "        if pointData is not None:\n",
    "            unstructuredGridToVTK(\n",
    "                title,\n",
    "                self.x,\n",
    "                self.y,\n",
    "                self.z,\n",
    "                connectivity=self.conn,\n",
    "                offsets=self.offset,\n",
    "                cell_types=self.ctype,\n",
    "                pointData={'Temp': pointData})\n",
    "        else:\n",
    "            unstructuredGridToVTK(\n",
    "                title,\n",
    "                self.x,\n",
    "                self.y,\n",
    "                self.z,\n",
    "                connectivity=self.conn,\n",
    "                offsets=self.offset,\n",
    "                cell_types=self.ctype,\n",
    "                pointData={'Temp': self.x})"
   ]
  },
  {
   "cell_type": "code",
   "execution_count": 24,
   "metadata": {},
   "outputs": [],
   "source": [
    "e = Equiangulartovtk(8)"
   ]
  },
  {
   "cell_type": "code",
   "execution_count": 17,
   "metadata": {},
   "outputs": [],
   "source": [
    "e.save(pointData=e.z)\n"
   ]
  },
  {
   "cell_type": "code",
   "execution_count": 29,
   "metadata": {},
   "outputs": [
    {
     "name": "stderr",
     "output_type": "stream",
     "text": [
      "WARNING:root:Dolfin's XML is a legacy format. Consider using XDMF instead.\n"
     ]
    }
   ],
   "source": [
    "import meshio\n",
    "\n",
    "cells = {\"triangle\": e.simplices}\n",
    "meshio.write_points_cells(\n",
    "    \"equiangular/normal/meshes/manual_equi_{}.xml\".format(bw),\n",
    "    e.coords,\n",
    "    cells,\n",
    ")"
   ]
  },
  {
   "cell_type": "code",
   "execution_count": null,
   "metadata": {},
   "outputs": [],
   "source": []
  }
 ],
 "metadata": {
  "kernelspec": {
   "display_name": "Python (pdm)",
   "language": "python",
   "name": "pdm"
  },
  "language_info": {
   "codemirror_mode": {
    "name": "ipython",
    "version": 3
   },
   "file_extension": ".py",
   "mimetype": "text/x-python",
   "name": "python",
   "nbconvert_exporter": "python",
   "pygments_lexer": "ipython3",
   "version": "3.7.2"
  }
 },
 "nbformat": 4,
 "nbformat_minor": 2
}

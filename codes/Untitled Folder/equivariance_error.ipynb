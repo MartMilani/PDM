{
 "cells": [
  {
   "cell_type": "code",
   "execution_count": 1,
   "metadata": {},
   "outputs": [],
   "source": [
    "import numpy as np\n",
    "import matplotlib.pyplot as plt\n",
    "from mpl_toolkits.mplot3d import Axes3D\n",
    "import healpy as hp\n",
    "from scipy.spatial import ConvexHull\n",
    "import meshio\n",
    "import scipy\n",
    "from pygsp.graphs import Graph\n",
    "import healpy as hp\n",
    "from pyevtk.hl import unstructuredGridToVTK\n",
    "from pyevtk.vtk import VtkTriangle, VtkQuad\n",
    "import pyshtools\n",
    "\n",
    "class MyGraph(Graph):\n",
    "    \n",
    "    def __init__(self, W, coords):\n",
    "        super(MyGraph, self).__init__(W=W, coords=coords)\n",
    "        \n",
    "\n",
    "    \n",
    "    def _init_vtk(self):\n",
    "        from pyevtk.vtk import VtkTriangle, VtkQuad\n",
    "        tri = ConvexHull(self.coords)\n",
    "        self.simplices = tri.simplices\n",
    "        self.conn = self.simplices.flatten()\n",
    "        self.offset = np.arange(3,len(self.conn)+1, 3)\n",
    "        self.ctype = np.ones(len(self.offset))*VtkTriangle.tid\n",
    "\n",
    "\n",
    "    def save_signal(self, title='unstructured', pointData=None):\n",
    "        from pyevtk.hl import unstructuredGridToVTK\n",
    "        if pointData is not None:\n",
    "            unstructuredGridToVTK(\n",
    "                title,\n",
    "                self.x,\n",
    "                self.y,\n",
    "                self.z,\n",
    "                connectivity=self.conn,\n",
    "                offsets=self.offset,\n",
    "                cell_types=self.ctype,\n",
    "                pointData={'Temp': pointData})\n",
    "        else:\n",
    "            unstructuredGridToVTK(\n",
    "                title,\n",
    "                self.x,\n",
    "                self.y,\n",
    "                self.z,\n",
    "                connectivity=self.conn,\n",
    "                offsets=self.offset,\n",
    "                cell_types=self.ctype,\n",
    "                pointData={'Temp': self.x})\n",
    "        \n",
    "    def save_mesh(self, file=\"mesh.xml\"):\n",
    "        self._init_vtk()\n",
    "        cells = {\"triangle\": self.simplices}\n",
    "        meshio.write_points_cells(\n",
    "            file,\n",
    "            self.coords,\n",
    "            cells)\n",
    "        \n",
    "class FullEquiangular(MyGraph):\n",
    "\n",
    "    sigmas = {1:1,\n",
    "              2:0.3,\n",
    "              4: 0.175, \n",
    "              8: 0.0525,\n",
    "              16: 0.015,\n",
    "              32: 0.004}\n",
    "    \n",
    "    def make_coords(self, bw):\n",
    "        alpha = np.arange(2 * bw) * np.pi / bw\n",
    "        beta = np.arange(2 * bw) * np.pi / (2. * bw)\n",
    "        theta, phi = np.meshgrid(*(beta, alpha),indexing='ij')\n",
    "        ct = np.cos(theta).flatten()\n",
    "        st = np.sin(theta).flatten()\n",
    "        cp = np.cos(phi).flatten()\n",
    "        sp = np.sin(phi).flatten()\n",
    "        x = st * cp\n",
    "        y = st * sp\n",
    "        z = ct\n",
    "        coords = np.vstack([x, y, z]).T\n",
    "        coords = np.asarray(coords, dtype=np.float32)\n",
    "        coords = coords[2*bw-1:]\n",
    "        self.x = coords[:,0]\n",
    "        self.y = coords[:,1]\n",
    "        self.z = coords[:,2]\n",
    "        return coords\n",
    "\n",
    "    \n",
    "    def __init__(self, bw=8):\n",
    "        self.bw = bw\n",
    "        self.npix = 2*bw*(2*bw-1)+1\n",
    "        coords = self.make_coords(bw)\n",
    "        distances_squared = scipy.spatial.distance.cdist(coords, coords)**2\n",
    "        try:\n",
    "            sigma = self.sigmas[bw]\n",
    "        except KeyError:\n",
    "            sigma = 0.1\n",
    "        W = np.exp(-distances_squared/sigma)\n",
    "        W = W-np.diag(np.diag(W))\n",
    "        super(FullEquiangular, self).__init__(W=W, coords=coords)\n",
    "        self._init_vtk()"
   ]
  },
  {
   "cell_type": "code",
   "execution_count": 2,
   "metadata": {
    "scrolled": false
   },
   "outputs": [],
   "source": [
    "def to_signal(array):\n",
    "    bw = array.shape[0]//2\n",
    "    return array.flatten()[2*bw-1:]\n",
    "\n",
    "\n",
    "def to_array(f):\n",
    "    N = f.size\n",
    "    bw = int((2+np.sqrt(4+16*N))//8)\n",
    "    \n",
    "    \"\"\"From a 1-d vector to a 2D grid necessary to initiate a pyshtools.SHGrid object\"\"\"\n",
    "    height, width = 2*bw, 2*bw\n",
    "    array = np.zeros((height, width))  # shape=(longitude, latitude)\n",
    "    f = np.append([f[0]]*(2*bw-1), f)  # correct! the first line is the North pole repeated 2bw times\n",
    "    # now we need to undo the meshgrid\n",
    "    assert f.size == array.size\n",
    "    for n, fx in enumerate(f):\n",
    "        j = n%width\n",
    "        i = n//width\n",
    "        array[i, j] = fx\n",
    "    return array\n",
    "\n",
    "\n",
    "def _filter(grid, matrix):\n",
    "    array = grid.data\n",
    "    f = to_signal(array)\n",
    "    ### here goes the filtering ###\n",
    "    f = matrix@f\n",
    "    ### ----------------------- ###\n",
    "    array = to_array(f, )\n",
    "    return pyshtools.SHGrid.from_array(array)\n",
    "\n",
    "\n",
    "def _equivariance_error(clm, max_iter, matrix, plot=False):\n",
    "    \"\"\"Calculates the equivariance error on one signal  only\n",
    "    as average of max_iter random rotations\"\"\"\n",
    "    \n",
    "    grid = clm.expand()\n",
    "    if plot:\n",
    "        grid.plot()\n",
    "    angles = np.random.uniform(low=0, high=360, size=(max_iter, 3))\n",
    "    \n",
    "    initial_norm = np.linalg.norm(grid.data)\n",
    "    norm = np.zeros(max_iter)\n",
    "    for i, [alpha, beta, gamma] in enumerate(angles):\n",
    "        clm_rotated = clm.rotate(alpha, beta, gamma, degrees=True)\n",
    "        grid_rotated = clm_rotated.expand()\n",
    "\n",
    "        F_grid = _filter(grid, matrix)\n",
    "        F_clm = F_grid.expand()\n",
    "        RF_clm = F_clm.rotate(alpha, beta, gamma, degrees=True)\n",
    "        RF_grid = RF_clm.expand()\n",
    "\n",
    "        FR_grid = _filter(grid_rotated, matrix)\n",
    "        if plot:\n",
    "            FR_grid.plot()\n",
    "            RF_grid.plot()\n",
    "        norm[i] = np.linalg.norm(RF_grid.data-FR_grid.data)\n",
    "    return np.mean(norm)/initial_norm\n",
    "\n",
    "\n",
    "def equivariance_error(max_iter, matrix, plot=False):\n",
    "    \"\"\"Calculates the equivariance error on max_iter signals\n",
    "    with the same power spectrum as average of N random rotations each\"\"\"\n",
    "    N = 5\n",
    "    degrees = np.arange(lmax, dtype=float)\n",
    "    degrees[0] = np.inf\n",
    "    power = degrees**(-2)\n",
    "    norm = np.zeros(max_iter)\n",
    "    for i in range(max_iter):\n",
    "        clm = pyshtools.SHCoeffs.from_random(power)\n",
    "        norm[i] = _equivariance_error(clm, N, matrix, plot)\n",
    "    return np.mean(norm)"
   ]
  },
  {
   "cell_type": "code",
   "execution_count": 3,
   "metadata": {
    "scrolled": false
   },
   "outputs": [
    {
     "name": "stderr",
     "output_type": "stream",
     "text": [
      "/Users/Mart/anaconda3/envs/pdm/lib/python3.7/site-packages/scipy/sparse/linalg/dsolve/linsolve.py:296: SparseEfficiencyWarning: splu requires CSC matrix format\n",
      "  warn('splu requires CSC matrix format', SparseEfficiencyWarning)\n",
      "/Users/Mart/anaconda3/envs/pdm/lib/python3.7/site-packages/scipy/sparse/linalg/dsolve/linsolve.py:203: SparseEfficiencyWarning: spsolve is more efficient when sparse b is in the CSC matrix format\n",
      "  'is in the CSC matrix format', SparseEfficiencyWarning)\n"
     ]
    }
   ],
   "source": [
    "bw = 8\n",
    "lmax = bw\n",
    "\n",
    "sphere = FullEquiangular(bw=bw)\n",
    "HKGL = sphere.L\n",
    "HKGL_diffusion = scipy.linalg.expm(-3*HKGL)"
   ]
  },
  {
   "cell_type": "code",
   "execution_count": 4,
   "metadata": {},
   "outputs": [
    {
     "name": "stdout",
     "output_type": "stream",
     "text": [
      "0.168464763993304\n"
     ]
    }
   ],
   "source": [
    "print(equivariance_error(100, HKGL_diffusion, plot=False))    "
   ]
  },
  {
   "cell_type": "code",
   "execution_count": 12,
   "metadata": {
    "scrolled": false
   },
   "outputs": [],
   "source": [
    "npix = 2*bw*(2*bw-1)+1\n",
    "\n",
    "L = scipy.sparse.load_npz('../03.FEM_laplacian/equiangular/normal/matrices/stiffness_matrix_{}.npz'.format(bw))\n",
    "B = scipy.sparse.load_npz('../03.FEM_laplacian/equiangular/normal/matrices/mass_matrix_{}.npz'.format(bw))\n",
    "reordering_mask = np.load(\"../03.FEM_laplacian/equiangular/normal/15_reordering_masks/reordering_mask_{}.npy\".format(bw))\n",
    "\n",
    "L = L[reordering_mask]\n",
    "B = B[reordering_mask]\n",
    "L = L[:, reordering_mask]\n",
    "B = B[:, reordering_mask]\n",
    "B_inv = scipy.sparse.linalg.inv(B)\n",
    "\n",
    "\n",
    "B_lumped_12 = np.diag(1./np.sqrt(np.sum((B.toarray()), axis=1)))\n",
    "B_lumped_inv = np.diag(1./np.sum((B.toarray()), axis=1))\n",
    "\n",
    "\n",
    "FEM_lumped_symmetric = scipy.linalg.expm(-0.5*B_lumped_12@L@B_lumped_12)"
   ]
  },
  {
   "cell_type": "code",
   "execution_count": 6,
   "metadata": {},
   "outputs": [
    {
     "name": "stdout",
     "output_type": "stream",
     "text": [
      "0.08201795379706248\n"
     ]
    }
   ],
   "source": [
    "print(equivariance_error(100, FEM_lumped_symmetric, plot=False))"
   ]
  },
  {
   "cell_type": "code",
   "execution_count": 13,
   "metadata": {},
   "outputs": [],
   "source": [
    "FEM_lumped = scipy.linalg.expm(-0.5*B_lumped_inv@L)"
   ]
  },
  {
   "cell_type": "code",
   "execution_count": 14,
   "metadata": {},
   "outputs": [
    {
     "name": "stdout",
     "output_type": "stream",
     "text": [
      "0.022870041764194535\n"
     ]
    }
   ],
   "source": [
    "print(equivariance_error(100, FEM_lumped, plot=False))"
   ]
  },
  {
   "cell_type": "code",
   "execution_count": 15,
   "metadata": {},
   "outputs": [],
   "source": [
    "FEM = scipy.linalg.expm(-0.5*B_inv@L)"
   ]
  },
  {
   "cell_type": "code",
   "execution_count": 16,
   "metadata": {},
   "outputs": [
    {
     "name": "stdout",
     "output_type": "stream",
     "text": [
      "0.022112063763932772\n"
     ]
    }
   ],
   "source": [
    "print(equivariance_error(100, FEM, plot=False))"
   ]
  },
  {
   "cell_type": "code",
   "execution_count": null,
   "metadata": {},
   "outputs": [],
   "source": []
  }
 ],
 "metadata": {
  "kernelspec": {
   "display_name": "Python (pdm)",
   "language": "python",
   "name": "pdm"
  },
  "language_info": {
   "codemirror_mode": {
    "name": "ipython",
    "version": 3
   },
   "file_extension": ".py",
   "mimetype": "text/x-python",
   "name": "python",
   "nbconvert_exporter": "python",
   "pygments_lexer": "ipython3",
   "version": "3.7.2"
  }
 },
 "nbformat": 4,
 "nbformat_minor": 2
}
